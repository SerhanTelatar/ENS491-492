{
 "cells": [
  {
   "cell_type": "code",
   "execution_count": 297,
   "metadata": {},
   "outputs": [],
   "source": [
    "import pandas as pd\n",
    "import numpy as np\n",
    "from scipy import stats\n"
   ]
  },
  {
   "cell_type": "code",
   "execution_count": 298,
   "metadata": {},
   "outputs": [],
   "source": [
    "wsp_contract = pd.read_excel(\"../../Datasets/study-1-data.xlsx\")\n",
    "\n"
   ]
  },
  {
   "cell_type": "code",
   "execution_count": 299,
   "metadata": {},
   "outputs": [],
   "source": [
    "wsp_contract['Sales'] = wsp_contract[['Demand', 'Stock']].min(axis=1)"
   ]
  },
  {
   "cell_type": "code",
   "execution_count": 300,
   "metadata": {},
   "outputs": [],
   "source": [
    "wsp_contract['Leftovers'] = wsp_contract['Stock'] - wsp_contract['Sales']"
   ]
  },
  {
   "cell_type": "code",
   "execution_count": 301,
   "metadata": {},
   "outputs": [],
   "source": [
    "wsp_contract['Unmet_Demand'] = wsp_contract['Demand'] - wsp_contract['Sales']"
   ]
  },
  {
   "cell_type": "code",
   "execution_count": 302,
   "metadata": {},
   "outputs": [],
   "source": [
    "wsp_contract.drop(columns=[\"Unnamed: 5\"], inplace=True)"
   ]
  },
  {
   "cell_type": "code",
   "execution_count": 303,
   "metadata": {},
   "outputs": [],
   "source": [
    "wsp_contract['Realized_Mfg_Profit'] = (wsp_contract['Stock'] * wsp_contract['Wholesale p.']) - (3 * wsp_contract['Stock']) "
   ]
  },
  {
   "cell_type": "code",
   "execution_count": 304,
   "metadata": {},
   "outputs": [],
   "source": [
    "wsp_contract['Realized_Retailer_Profit'] = (wsp_contract['Sales'] * 12) - (wsp_contract['Stock'] * wsp_contract['Wholesale p.'])"
   ]
  },
  {
   "cell_type": "code",
   "execution_count": 305,
   "metadata": {},
   "outputs": [],
   "source": [
    "wsp_contract['Realized_Mfg_Profit_Share'] = wsp_contract['Realized_Mfg_Profit'] / (wsp_contract['Realized_Mfg_Profit'] + wsp_contract['Realized_Retailer_Profit']) "
   ]
  },
  {
   "cell_type": "code",
   "execution_count": 306,
   "metadata": {},
   "outputs": [],
   "source": [
    "wsp_contract['Optimal_Stock'] = 100*((12-wsp_contract['Wholesale p.'])/12) + 50\n",
    "wsp_contract['Optimal_Stock'] = wsp_contract['Optimal_Stock'].astype(int)"
   ]
  },
  {
   "cell_type": "code",
   "execution_count": 307,
   "metadata": {},
   "outputs": [],
   "source": [
    "wsp_contract['Under/Overstock_wrt_Optimal'] = wsp_contract['Stock'] - wsp_contract['Optimal_Stock']"
   ]
  },
  {
   "cell_type": "code",
   "execution_count": 308,
   "metadata": {},
   "outputs": [],
   "source": [
    "potential_demand = np.arange(51, 151)\n",
    "expected_sales = []\n",
    "\n",
    "for index, row in wsp_contract.iterrows():\n",
    "    cumulative_expected_sales = 0\n",
    "    \n",
    "    for demand_realization in potential_demand:\n",
    "        sales = min(demand_realization, row['Stock'])\n",
    "\n",
    "        cumulative_expected_sales += sales\n",
    "        \n",
    "        #if sales == row['Stock']:\n",
    "         #   cumulative_expected_sales += (150 - demand_realization) * row['Stock']\n",
    "          #  break\n",
    "    \n",
    "    # Calculate the average expected sales for this row and append it to the list\n",
    "    expected_sales.append(cumulative_expected_sales / len(potential_demand))\n",
    "\n",
    "wsp_contract['Expected Sales'] = np.array(expected_sales)"
   ]
  },
  {
   "cell_type": "code",
   "execution_count": 309,
   "metadata": {},
   "outputs": [],
   "source": [
    "wsp_contract[\"Expected_Leftovers\"] = wsp_contract[\"Optimal_Stock\"] - wsp_contract[\"Expected Sales\"]"
   ]
  },
  {
   "cell_type": "code",
   "execution_count": 310,
   "metadata": {},
   "outputs": [],
   "source": [
    "wsp_contract['Expected Retailer Profit'] = (wsp_contract['Expected Sales'] * 12) - (wsp_contract['Wholesale p.'] * wsp_contract['Stock']) "
   ]
  },
  {
   "cell_type": "code",
   "execution_count": 311,
   "metadata": {},
   "outputs": [],
   "source": [
    "wsp_contract['Expected Mfg Profit'] = (wsp_contract['Stock'] * wsp_contract['Wholesale p.']) - (3 * wsp_contract['Stock'])"
   ]
  },
  {
   "cell_type": "code",
   "execution_count": 312,
   "metadata": {},
   "outputs": [],
   "source": [
    "wsp_contract['Expected Mfg. Profit Share'] = wsp_contract['Expected Mfg Profit'] / (wsp_contract['Expected Mfg Profit'] + wsp_contract['Expected Retailer Profit']) #wsp_contract.apply(lambda row: row['Expected Mfg Profit'] / row['Total Expected Revenue'] if row['Total Expected Revenue'] != 0 else 0, axis=1)"
   ]
  },
  {
   "cell_type": "code",
   "execution_count": 313,
   "metadata": {},
   "outputs": [],
   "source": [
    "potential_demand = np.arange(51, 151)\n",
    "expected_sales = []\n",
    "\n",
    "for index, row in wsp_contract.iterrows():\n",
    "    cumulative_expected_sales = 0\n",
    "    \n",
    "    for demand_realization in potential_demand:\n",
    "        sales = min(demand_realization, row['Optimal_Stock'])\n",
    "\n",
    "        cumulative_expected_sales += sales\n",
    "        \n",
    "        #if sales == row['Stock']:\n",
    "         #   cumulative_expected_sales += (150 - demand_realization) * row['Stock']\n",
    "          #  break\n",
    "    \n",
    "    # Calculate the average expected sales for this row and append it to the list\n",
    "    expected_sales.append(cumulative_expected_sales / len(potential_demand))\n",
    "\n",
    "wsp_contract['Predicted Sales'] = np.array(expected_sales)"
   ]
  },
  {
   "cell_type": "code",
   "execution_count": 314,
   "metadata": {},
   "outputs": [],
   "source": [
    "wsp_contract['Predicted Leftovers'] = wsp_contract['Optimal_Stock'] - wsp_contract['Predicted Sales']"
   ]
  },
  {
   "cell_type": "code",
   "execution_count": 315,
   "metadata": {},
   "outputs": [],
   "source": [
    "wsp_contract['Predicted Retailer Profit'] = wsp_contract['Predicted Sales'] * 12 - (wsp_contract['Wholesale p.'] * wsp_contract['Optimal_Stock'])\n",
    "wsp_contract['Predicted Mfg Profit'] = (wsp_contract['Optimal_Stock'] * wsp_contract['Wholesale p.']) - (3 * wsp_contract['Optimal_Stock'])"
   ]
  },
  {
   "cell_type": "code",
   "execution_count": 316,
   "metadata": {},
   "outputs": [],
   "source": [
    "wsp_contract['Realized Retailer Profit'] = wsp_contract['Sales'] * 12 - (wsp_contract['Stock'] * wsp_contract['Wholesale p.'])"
   ]
  },
  {
   "cell_type": "code",
   "execution_count": 317,
   "metadata": {},
   "outputs": [],
   "source": [
    "wsp_contract['Predicted Mfg. Profit Share'] = wsp_contract['Predicted Mfg Profit'] / (wsp_contract['Predicted Mfg Profit'] + wsp_contract['Predicted Retailer Profit'])"
   ]
  },
  {
   "cell_type": "code",
   "execution_count": 318,
   "metadata": {},
   "outputs": [],
   "source": [
    "wsp_contract = wsp_contract.fillna(0)\n",
    "wsp_contract.to_csv('./curr_data.csv', index = False)"
   ]
  },
  {
   "cell_type": "code",
   "execution_count": 319,
   "metadata": {},
   "outputs": [],
   "source": [
    "grouped_data_retailer = wsp_contract.groupby('Player ID')\n"
   ]
  },
  {
   "cell_type": "code",
   "execution_count": 320,
   "metadata": {},
   "outputs": [],
   "source": [
    "wsp_contract = pd.read_csv(\"../../Notebooks/experiment/curr_data.csv\")"
   ]
  },
  {
   "cell_type": "code",
   "execution_count": 321,
   "metadata": {},
   "outputs": [
    {
     "name": "stdout",
     "output_type": "stream",
     "text": [
      "ShapiroResult(statistic=0.9213677048683167, pvalue=5.289216595482103e-21)\n",
      "ShapiroResult(statistic=0.9109364151954651, pvalue=2.791107770045616e-22)\n",
      "p value: 2.7778300779822927e-06\n",
      "Reject the null hypothesis: The median absolute difference is significantly different from zero.\n"
     ]
    }
   ],
   "source": [
    "#Null Hypothesis (H0): The mean order quantity made by retailers is not significantly different from the optimal stock level.\n",
    "\n",
    "#Alternative Hypothesis (H1): The mean order quantity made by retailers is significantly different from the optimal stock level.\n",
    "\n",
    "#Reasoning: Retailers are expected to be able to adapt correctly to the changing wholesale price as they are rational agents.\n",
    "\n",
    "wsp_contract['null'] = 0\n",
    "from scipy.stats import wilcoxon\n",
    "\n",
    "print(stats.shapiro(wsp_contract[\"Stock\"]))\n",
    "print(stats.shapiro(wsp_contract[\"Optimal_Stock\"]))\n",
    "_, p_value = wilcoxon((wsp_contract[\"Stock\"]), wsp_contract['Optimal_Stock'])\n",
    "print(\"p value:\",p_value)\n",
    "if p_value < 0.05:\n",
    "    print(\"Reject the null hypothesis: The median absolute difference is significantly different from zero.\")\n",
    "else:\n",
    "    print(\"Fail to reject the null hypothesis: No significant difference from zero in the median absolute difference.\")"
   ]
  },
  {
   "cell_type": "code",
   "execution_count": 322,
   "metadata": {},
   "outputs": [
    {
     "name": "stdout",
     "output_type": "stream",
     "text": [
      "ShapiroResult(statistic=0.9673224687576294, pvalue=0.6491798758506775)\n",
      "ShapiroResult(statistic=0.960820198059082, pvalue=0.5060364603996277)\n",
      "P value is 0.4243008596576613 which is higher than 0.05.\n",
      "Meaning that the null hypothesis is accepted.\n"
     ]
    }
   ],
   "source": [
    "my = []\n",
    "i = 0\n",
    "for group_key, group_data in grouped_data_retailer:\n",
    "    a=group_data.iloc[0:5]['Expected Retailer Profit'].mean()\n",
    "    b=group_data.iloc[20:35]['Expected Retailer Profit'].mean()\n",
    "    my.append([a, b])\n",
    "    i+=1\n",
    "\n",
    "my = pd.DataFrame(my)\n",
    "\n",
    "\n",
    "#hypo 2\n",
    "#H0: The retailers' expected profits in the first 5 rounds are not significantly different compared to later stages of the game.\n",
    "#H1: There is statistically significant difference between the first 5 round and the later stages of the game.\n",
    "#Resoning: We expect retailers to learn how to efficiently play the game and increase their expected profits in the later stages of the game\n",
    "\n",
    "\n",
    "print(stats.shapiro(my[0]))\n",
    "print(stats.shapiro(my[1]))\n",
    "\n",
    "\n",
    "t_stat, p_value = stats.ttest_rel(my[0], my[1])\n",
    "print(\"P value is\", p_value, \"which is higher than 0.05.\\nMeaning that the null hypothesis is accepted.\")\n"
   ]
  },
  {
   "cell_type": "code",
   "execution_count": 323,
   "metadata": {},
   "outputs": [
    {
     "data": {
      "text/plain": [
       "[[386.0249999999999, 19],\n",
       " [347.746, 17],\n",
       " [326.69000000000005, 4],\n",
       " [313.69199999999995, 3],\n",
       " [303.936, 12],\n",
       " [302.41999999999996, 9],\n",
       " [289.32699999999994, 20],\n",
       " [265.582, 6],\n",
       " [256.01599999999996, 16],\n",
       " [251.417, 15],\n",
       " [249.76999999999992, 13],\n",
       " [247.94700000000003, 10],\n",
       " [246.148, 11],\n",
       " [244.06199999999995, 7],\n",
       " [228.01500000000001, 0],\n",
       " [227.025, 5],\n",
       " [223.231, 18],\n",
       " [221.73099999999994, 8],\n",
       " [191.922, 1],\n",
       " [184.99, 2],\n",
       " [184.80200000000005, 14],\n",
       " [170.87299999999996, 21]]"
      ]
     },
     "execution_count": 323,
     "metadata": {},
     "output_type": "execute_result"
    }
   ],
   "source": [
    "#hypo 3: \n",
    "\n",
    "#H0: There is no statistically significant difference in the under/over ordering values of the best expected retailer profit scorers and the worst ones.\n",
    "#meaning that the null hypothesis dictates that the retailers with highest expected retailer profits and lowest expected retailer profits have similar under/over ordering values\n",
    "#Reasoning: We expect that the retailers whose expected profits are the highest among all should have come colser to the demand realization compared to the retailers with worst expected profits\n",
    "\n",
    "liste = []\n",
    "i = 0\n",
    "for group_key, group_data in grouped_data_retailer:\n",
    "    a=group_data['Expected Retailer Profit'].mean()\n",
    "    liste.append([a, i])\n",
    "    i+=1\n",
    "\n",
    "liste = sorted(liste, key=lambda x: x[0], reverse=True)\n",
    "\n",
    "liste "
   ]
  },
  {
   "cell_type": "code",
   "execution_count": 324,
   "metadata": {},
   "outputs": [
    {
     "name": "stdout",
     "output_type": "stream",
     "text": [
      "ShapiroResult(statistic=0.926517903804779, pvalue=1.800900228943192e-08)\n",
      "ShapiroResult(statistic=0.8850858211517334, pvalue=3.114175931018259e-11)\n",
      "WilcoxonResult(statistic=7102.0, pvalue=0.0018774414138789553)\n",
      "Null hypothesis is rejected\n"
     ]
    }
   ],
   "source": [
    "first_indexes = [21, 1, 16, 18, 2]\n",
    "last_indexes = [17, 0, 9, 5, 14]\n",
    "df_best = pd.DataFrame()\n",
    "df_worst = pd.DataFrame()\n",
    "\n",
    "i = 0\n",
    "for group_key, group_data in grouped_data_retailer:\n",
    "    if i in first_indexes:\n",
    "        df_best = pd.concat([df_best, group_data])\n",
    "    elif i in last_indexes:\n",
    "        df_worst = pd.concat([df_worst, group_data])\n",
    "    i+=1\n",
    "from scipy.stats import wilcoxon\n",
    "print(stats.shapiro(abs(df_best['Under/Overstock_wrt_Optimal'])))\n",
    "print(stats.shapiro(abs(df_worst['Under/Overstock_wrt_Optimal'])))\n",
    "\n",
    "\n",
    "res = wilcoxon(abs(df_best['Under/Overstock_wrt_Optimal']) ,abs(df_worst['Under/Overstock_wrt_Optimal'])) \n",
    "\n",
    "print(res)\n",
    "print(\"Null hypothesis is rejected\")"
   ]
  },
  {
   "cell_type": "code",
   "execution_count": 325,
   "metadata": {},
   "outputs": [
    {
     "name": "stdout",
     "output_type": "stream",
     "text": [
      "ShapiroResult(statistic=0.890314519405365, pvalue=2.6951266107744232e-08)\n",
      "ShapiroResult(statistic=0.9140936136245728, pvalue=5.084256144982646e-07)\n",
      "1.3175845443509359e-06 reject h0: signals do not affect the next turn's wholesale price offer, hypo 4\n",
      "We see in the end that when there is a signal by the retailer, the next round's wholesale price offer is affected by this decision\n"
     ]
    }
   ],
   "source": [
    "\n",
    "#hypothesis 4\n",
    "#Retailers could send a signal to manufacturers by either ordering 0 stock or 51 stock in which case the profits are 0 or the lowest possible value other than zero\n",
    "#Retailers do this when they want to express that the manufacturers' wholesale price offers are not acceptable by the retailers. This can affect the next rounds\n",
    "#H0: The wholesale price offers of manufacturers are not significantly affected by the signals a retailer sends them the in the previous round.\n",
    "\n",
    "\n",
    "\n",
    "main_df = pd.DataFrame()\n",
    "for group_key, group_data in grouped_data_retailer:\n",
    "\n",
    "    df_a = group_data[((group_data['Stock'] == 0 ) | (group_data['Stock'] == 51 )) & (group_data.index != group_data.index[-1]) ]\n",
    "    indices = df_a.index + 1\n",
    "    df_b =wsp_contract.iloc[indices]\n",
    "    df_a = df_a.reset_index(drop =True)\n",
    "    df_b = df_b.reset_index(drop =True)\n",
    "    df_c = pd.concat([df_a['Wholesale p.'], df_b['Wholesale p.']], axis = 1)\n",
    "    main_df = pd.concat([main_df, df_c],)\n",
    "\n",
    "main_df.columns = ['a', 'b']\n",
    "\n",
    "print(stats.shapiro(main_df['a']))\n",
    "print(stats.shapiro(main_df['b']))\n",
    "\n",
    "\n",
    "_, p_value = wilcoxon(main_df['a'], main_df['b'])\n",
    "print(p_value ,\"reject h0: signals do not affect the next turn's wholesale price offer, hypo 4\")\n",
    "print(\"We see in the end that when there is a signal by the retailer, the next round's wholesale price offer is affected by this decision\")"
   ]
  },
  {
   "cell_type": "code",
   "execution_count": 326,
   "metadata": {},
   "outputs": [
    {
     "name": "stdout",
     "output_type": "stream",
     "text": [
      "ShapiroResult(statistic=0.8194721341133118, pvalue=2.708517095198587e-30)\n",
      "ShapiroResult(statistic=0.9152687788009644, pvalue=9.163949496737127e-22)\n",
      "0.0008860172293888648 \n",
      " Reject H0\n"
     ]
    }
   ],
   "source": [
    "#hypo 5\n",
    "# H0: There is no difference in means between the predicted Mfg. Profit Share and Expected Mfg Profit.\n",
    "\n",
    "#reasoning: Predicted manufacturer profit relies on the retailer making optimal decisions. If they are making optimal decisions, then the difference of means of these datasets whould be 0.\n",
    "\n",
    "#Result: P value is less than 0.05, rejecting the null hypothesis. Retailers do not make optimal decisions.\n",
    "from scipy import stats\n",
    "\n",
    "#Since p values of the shapiro tests are less than 0.05, these sets reject normality, so wilcoxon needs to be used instead of something like t-test.\n",
    "print(stats.shapiro(wsp_contract['Predicted Mfg Profit']))\n",
    "print(stats.shapiro(wsp_contract['Expected Mfg Profit']))\n",
    "\n",
    "\n",
    "_, p_val = stats.wilcoxon(wsp_contract['Predicted Mfg Profit'], wsp_contract['Expected Mfg Profit'])\n",
    "\n",
    "print(p_val, \"\\n\", \"Reject H0\")"
   ]
  },
  {
   "cell_type": "code",
   "execution_count": null,
   "metadata": {},
   "outputs": [],
   "source": []
  }
 ],
 "metadata": {
  "kernelspec": {
   "display_name": "base",
   "language": "python",
   "name": "python3"
  },
  "language_info": {
   "codemirror_mode": {
    "name": "ipython",
    "version": 3
   },
   "file_extension": ".py",
   "mimetype": "text/x-python",
   "name": "python",
   "nbconvert_exporter": "python",
   "pygments_lexer": "ipython3",
   "version": "3.11.7"
  }
 },
 "nbformat": 4,
 "nbformat_minor": 2
}
