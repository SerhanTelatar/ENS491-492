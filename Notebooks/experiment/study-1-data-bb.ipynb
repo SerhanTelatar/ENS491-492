{
 "cells": [
  {
   "cell_type": "code",
   "execution_count": 57,
   "metadata": {},
   "outputs": [],
   "source": [
    "import pandas as pd\n",
    "import numpy as np\n",
    "from scipy import stats\n",
    "\n",
    "bb_contract = pd.read_excel(\"../../Datasets/study-1-data.xlsx\", sheet_name=\"BB contract\")\n",
    "\n",
    "pd.set_option('display.max_rows', 100)"
   ]
  },
  {
   "cell_type": "code",
   "execution_count": 58,
   "metadata": {},
   "outputs": [],
   "source": [
    "bb_contract = bb_contract.drop(\"Unnamed: 6\", axis=1)"
   ]
  },
  {
   "cell_type": "code",
   "execution_count": 59,
   "metadata": {},
   "outputs": [
    {
     "data": {
      "text/plain": [
       "Experiment      0\n",
       "Period          0\n",
       "Player ID       0\n",
       "Demand          0\n",
       "Wholesale p.    0\n",
       "Buyback p.      0\n",
       "Player ID.1     0\n",
       "Stock           0\n",
       "dtype: int64"
      ]
     },
     "execution_count": 59,
     "metadata": {},
     "output_type": "execute_result"
    }
   ],
   "source": [
    "bb_contract.isnull().sum()"
   ]
  },
  {
   "cell_type": "code",
   "execution_count": 60,
   "metadata": {},
   "outputs": [
    {
     "data": {
      "text/plain": [
       "Index(['Experiment', 'Period', 'Player ID', 'Demand', 'Wholesale p.',\n",
       "       'Buyback p.', 'Player ID.1', 'Stock'],\n",
       "      dtype='object')"
      ]
     },
     "execution_count": 60,
     "metadata": {},
     "output_type": "execute_result"
    }
   ],
   "source": [
    "bb_contract.columns"
   ]
  },
  {
   "cell_type": "code",
   "execution_count": 61,
   "metadata": {},
   "outputs": [],
   "source": [
    "bb_contract['Sales'] = bb_contract[['Demand', 'Stock']].min(axis=1)\n",
    "bb_contract['Leftovers'] = bb_contract['Stock'] - bb_contract['Sales']\n",
    "bb_contract['Unmet_Demand'] = bb_contract['Demand'] - bb_contract['Sales']\n",
    "\n",
    "bb_contract['Realized_Mfg_Profit'] = (bb_contract['Stock'] * bb_contract['Wholesale p.']) - (3 * bb_contract['Stock']) \n",
    "bb_contract['Realized_Retailer_Profit'] = (bb_contract['Sales'] * 12) - (bb_contract['Stock'] * bb_contract['Wholesale p.'])\n",
    "bb_contract['Realized_Mfg_Profit_Share'] = bb_contract['Realized_Mfg_Profit'] / (bb_contract['Realized_Mfg_Profit'] + bb_contract['Realized_Retailer_Profit'])\n",
    "\n",
    "#wsp_contract['Optimal_Stock'] = 100*((12-wsp_contract['Wholesale p.'])/12 - 'Buyback p.') + 50\n",
    "bb_contract['Optimal_Stock'] =  100 * (      (12 - bb_contract['Wholesale p.'] ) /  (   12 - bb_contract['Buyback p.']    )    )       +    50\n",
    "bb_contract['Optimal_Stock'] = bb_contract['Optimal_Stock'].round()\n",
    "\n",
    "bb_contract['Under/Overstock_wrt_Optimal'] = bb_contract['Stock'] - bb_contract['Optimal_Stock']\n",
    "potential_demand = np.arange(51, 151)\n",
    "expected_sales = []\n",
    "\n",
    "for index, row in bb_contract.iterrows():\n",
    "    cumulative_expected_sales = 0\n",
    "    \n",
    "    for demand_realization in potential_demand:\n",
    "        sales = min(demand_realization, row['Stock'])\n",
    "\n",
    "        cumulative_expected_sales += sales\n",
    "        \n",
    "        #if sales == row['Stock']:\n",
    "         #   cumulative_expected_sales += (150 - demand_realization) * row['Stock']\n",
    "          #  break\n",
    "    \n",
    "    # Calculate the average expected sales for this row and append it to the list\n",
    "    expected_sales.append(cumulative_expected_sales / len(potential_demand))\n",
    "\n",
    "bb_contract['Expected Sales'] = np.array(expected_sales)\n",
    "bb_contract[\"Expected_Leftovers\"] = bb_contract[\"Optimal_Stock\"] - bb_contract[\"Expected Sales\"]\n",
    "\n",
    "#wsp_contract['Expected Retailer Profit'] = (wsp_contract['Expected Sales']  12) - (wsp_contract['Wholesale p.'] * wsp_contract['Stock']) + wsp_contract[\"Expected_Leftovers\"] * ..buyback price..\n",
    "bb_contract['Expected Retailer Profit'] = (bb_contract['Expected Sales'] * 12) - (bb_contract['Wholesale p.'] * bb_contract['Stock']) + bb_contract[\"Expected_Leftovers\"] * bb_contract[\"Buyback p.\"]\n",
    "\n",
    "#wsp_contract['Expected Mfg Profit'] = (wsp_contract['Stock']  wsp_contract['Wholesale p.']) - (3  wsp_contract['Stock']) - ..buybackprice.. * wsp_contract[\"Expected_Leftovers\"]\n",
    "bb_contract['Expected Mfg Profit'] = (bb_contract['Stock'] * bb_contract['Wholesale p.']) - (3 * bb_contract['Stock']) - bb_contract[\"Buyback p.\"] * bb_contract[\"Expected_Leftovers\"]\n",
    "\n",
    "bb_contract['Expected Mfg. Profit Share'] = bb_contract['Expected Mfg Profit'] / (bb_contract['Expected Mfg Profit'] + bb_contract['Expected Retailer Profit']) #bb_contract.apply(lambda row: row['Expected Mfg Profit'] / row['Total Expected Revenue'] if row['Total Expected Revenue'] != 0 else 0, axis=1)\n",
    "potential_demand = np.arange(51, 151)\n",
    "expected_sales = []\n",
    "\n",
    "for index, row in bb_contract.iterrows():\n",
    "    cumulative_expected_sales = 0\n",
    "    \n",
    "    for demand_realization in potential_demand:\n",
    "        sales = min(demand_realization, row['Optimal_Stock'])\n",
    "\n",
    "        cumulative_expected_sales += sales\n",
    "        \n",
    "        #if sales == row['Stock']:\n",
    "         #   cumulative_expected_sales += (150 - demand_realization) * row['Stock']\n",
    "          #  break\n",
    "    \n",
    "    # Calculate the average expected sales for this row and append it to the list\n",
    "    expected_sales.append(cumulative_expected_sales / len(potential_demand))\n",
    "\n",
    "bb_contract['Predicted Sales'] = np.array(expected_sales)\n",
    "bb_contract['Predicted Leftovers'] = bb_contract['Optimal_Stock'] - bb_contract['Predicted Sales'] \n",
    "\n",
    "bb_contract['Predicted Retailer Profit'] = bb_contract['Predicted Sales'] * 12 - (bb_contract['Wholesale p.'] * bb_contract['Optimal_Stock']) + bb_contract['Predicted Leftovers'] * bb_contract[\"Buyback p.\"]\n",
    "\n",
    "bb_contract['Predicted Mfg Profit'] = (bb_contract['Optimal_Stock'] * bb_contract['Wholesale p.']) - (3 * bb_contract['Optimal_Stock']) - bb_contract[\"Buyback p.\"] * bb_contract['Predicted Leftovers']\n",
    "\n",
    "bb_contract['Realized Retailer Profit'] = bb_contract['Sales'] * 12 - (bb_contract['Stock'] * bb_contract['Wholesale p.'])\n",
    "bb_contract['Predicted Mfg. Profit Share'] = bb_contract['Predicted Mfg Profit'] / (bb_contract['Predicted Mfg Profit'] + bb_contract['Predicted Retailer Profit'])\n",
    "\n",
    "\n",
    "\n"
   ]
  },
  {
   "cell_type": "code",
   "execution_count": 62,
   "metadata": {},
   "outputs": [],
   "source": [
    "bb_contract.to_csv('./curr_data_bb.csv', index = False)"
   ]
  },
  {
   "cell_type": "code",
   "execution_count": null,
   "metadata": {},
   "outputs": [],
   "source": []
  }
 ],
 "metadata": {
  "kernelspec": {
   "display_name": "Python 3",
   "language": "python",
   "name": "python3"
  },
  "language_info": {
   "codemirror_mode": {
    "name": "ipython",
    "version": 3
   },
   "file_extension": ".py",
   "mimetype": "text/x-python",
   "name": "python",
   "nbconvert_exporter": "python",
   "pygments_lexer": "ipython3",
   "version": "3.11.3"
  }
 },
 "nbformat": 4,
 "nbformat_minor": 2
}
