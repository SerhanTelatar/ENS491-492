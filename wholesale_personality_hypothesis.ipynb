{
 "cells": [
  {
   "cell_type": "code",
   "execution_count": null,
   "metadata": {},
   "outputs": [],
   "source": [
    "import pandas as pd\n",
    "from scipy.stats import wilcoxon, shapiro\n",
    "\n",
    "# Load the datasets\n",
    "survey_data = pd.read_csv('adjusted_reponse_survey.csv')\n",
    "contract_data = pd.read_csv('Notebooks\\experiment\\curr_data.csv')\n",
    "\n",
    "survey_data['PLAYER NAME'] = survey_data['PLAYER NAME'].str.replace('manufacturer', 'Manufacturer ', regex=False)"
   ]
  },
  {
   "cell_type": "markdown",
   "metadata": {},
   "source": [
    "# Hypothesis Test 1: Does Risk Aversion affect the difference between actual and optimal stock levels?\n",
    "\n",
    "Reasoning: Risk aversion is known to influence decision-making under uncertainty. The idea here is to test if individuals who are more risk-averse differ significantly in how they deviate from optimal stock levels.\n",
    "The hypothesis stems from economic and behavioral theory suggesting that high-risk-averse individuals may prefer stability and therefore stock more conservatively.\n",
    "\n",
    "Purpose: This hypothesis is tested to understand whether risk-averse behavior leads to different stock-keeping strategies and deviations from an optimal benchmark.\n",
    "\n",
    "Null Hypothesis (H0): There is no significant difference in the stock-keeping behavior of high-risk-averse and low-risk-averse individuals. </br>\n",
    "Alternative Hypothesis (H1): There is a significant difference in the stock-keeping behavior based on risk aversion."
   ]
  },
  {
   "cell_type": "code",
   "execution_count": null,
   "metadata": {},
   "outputs": [
    {
     "name": "stdout",
     "output_type": "stream",
     "text": [
      "Shapiro-Wilk Test for Top Average Deviation:\n",
      "Statistic: 0.9271564964771091, p-value: 3.057649586279196e-07\n",
      "\n",
      "Shapiro-Wilk Test for Bottom Average Deviation:\n",
      "Statistic: 0.9075204043602132, p-value: 1.597038104670112e-08\n",
      "\n",
      "T-test results for Avg_RiskAverseCoeff groups - t-statistic: 10565.0, p-value: 0.003420840430089309\n"
     ]
    },
    {
     "data": {
      "text/plain": [
       "'p value is less than 0.05, meaning null hypothesis is rejected. \\nThe manufacturer-retailer pairs that have higher average risk averse coefficient significantly underordered compared to pairs that have lower risk averse coefficient, meaning that\\nrisk takers overstocked significantly compared to risk haters.\\n'"
      ]
     },
     "execution_count": 33,
     "metadata": {},
     "output_type": "execute_result"
    }
   ],
   "source": [
    "# Standardize identifiers in both datasets to facilitate merging\n",
    "\n",
    "top_avg_riskaverse = survey_data.sort_values(by='Avg_RiskAverseCoeff').tail(4)\n",
    "bottom_avg_riskaverse = survey_data.sort_values(by='Avg_RiskAverseCoeff').head(4)\n",
    "\n",
    "# Extracting 'PLAYER NAME' values\n",
    "top_avg_riskaverse_players = top_avg_riskaverse['PLAYER NAME'].tolist()\n",
    "bottom_avg_riskaverse_players = bottom_avg_riskaverse['PLAYER NAME'].tolist()\n",
    "\n",
    "# Filtering corresponding data in curr_data based on 'Player ID'\n",
    "top_avg_riskaverse_data = contract_data[contract_data['Player ID'].isin(top_avg_riskaverse_players)]\n",
    "bottom_avg_riskaverse_data = contract_data[contract_data['Player ID'].isin(bottom_avg_riskaverse_players)]\n",
    "\n",
    "from scipy.stats import ttest_ind, mannwhitneyu\n",
    "from scipy import stats\n",
    "\n",
    "# Extracting the 'Under/Overstock_wrt_Optimal' values for the two groups\n",
    "top_avg_deviation = top_avg_riskaverse_data['Under/Overstock_wrt_Optimal'].dropna()\n",
    "bottom_avg_deviation = bottom_avg_riskaverse_data['Under/Overstock_wrt_Optimal'].dropna()\n",
    "\n",
    "# Performing a t-test to compare means if data is assumed normally distributed\n",
    "# If not normally distributed, we can use the Mann-Whitney U test\n",
    "\n",
    "# Test for normality using the Shapiro-Wilk test\n",
    "top_shapiro_test = stats.shapiro(top_avg_deviation)\n",
    "bottom_shapiro_test = stats.shapiro(bottom_avg_deviation)\n",
    "\n",
    "# Print the results\n",
    "print(\"Shapiro-Wilk Test for Top Average Deviation:\")\n",
    "print(f\"Statistic: {top_shapiro_test.statistic}, p-value: {top_shapiro_test.pvalue}\")\n",
    "\n",
    "print(\"\\nShapiro-Wilk Test for Bottom Average Deviation:\")\n",
    "print(f\"Statistic: {bottom_shapiro_test.statistic}, p-value: {bottom_shapiro_test.pvalue}\")\n",
    "print()\n",
    "\n",
    "\n",
    "# Both sets reject normality, using Mann-Whitney U test\n",
    "\n",
    "t_stat, p_value = mannwhitneyu(top_avg_deviation.dropna(), bottom_avg_deviation.dropna(), alternative='less')\n",
    "test_result = f\"T-test results for Avg_RiskAverseCoeff groups - t-statistic: {t_stat}, p-value: {p_value}\"\n",
    "\n",
    "\n",
    "print (test_result)\n",
    "\n",
    "\"\"\"p value is less than 0.05, meaning null hypothesis is rejected. The manufacturer-retailer pairs that have higher average risk averse coefficient\n",
    "significantly underordered compared to pairs that have lower risk averse coefficient, meaning that\n",
    "risk takers overstocked significantly compared to risk haters.\n",
    "\"\"\"\n"
   ]
  },
  {
   "cell_type": "markdown",
   "metadata": {},
   "source": [
    "# Hypothesis Test2: Impact of Self-Esteem Difference between retailer and manufacturer on Deviation from Optimal Stock Levels\n",
    "Reasoning: Self-esteem can impact confidence in decision-making, and a significant self-esteem difference between manufacturer and retailer may allow one to influence the others decisions in a significant way.\n",
    "\n",
    "Purpose: This helps identify whether psychological traits such as self-esteem influence decision-making precision in inventory management.\n",
    "\n",
    "Null Hypothesis (H0): There is no significant difference in the deviation from optimal stock level between high and low self-esteem difference groups. </br>\n",
    "Alternative Hypothesis (H1): There is a significant difference in deviation based on self-esteem difference between retailer and manufacturer.\n"
   ]
  },
  {
   "cell_type": "code",
   "execution_count": 42,
   "metadata": {},
   "outputs": [
    {
     "name": "stdout",
     "output_type": "stream",
     "text": [
      "Shapiro-Wilk Test for Top Average Deviation:\n",
      "Statistic: 0.9063937861848903, p-value: 1.3644548769130044e-08\n",
      "\n",
      "Shapiro-Wilk Test for Bottom Average Deviation:\n",
      "Statistic: 0.9187357770347635, p-value: 8.188086198815519e-08\n",
      "\n",
      "T-test results for Self-Esteem groups - t-statistic: 10181.5, p-value: 0.0007740541654231287\n"
     ]
    },
    {
     "data": {
      "text/plain": [
       "'p value is less than 0.05, meaning null hypothesis is rejected. Pairs where retailers have more self-esteem compared to manufacturers significantly underordered compared to pairs where manufacturers have more self-esteem compared to retailers.\\n'"
      ]
     },
     "execution_count": 42,
     "metadata": {},
     "output_type": "execute_result"
    }
   ],
   "source": [
    "# Step 1: Sorting by 'Avg_SelfEsteem' and selecting top and bottom 4\n",
    "top_self_esteem = survey_data.sort_values(by='Diff_SelfEsteem').head(4) #Group where retailers have more self-esteem than manufacturers\n",
    "bottom_self_esteem = survey_data.sort_values(by='Diff_SelfEsteem').tail(4)\n",
    "\n",
    "# Extracting 'PLAYER NAME' values\n",
    "top_self_esteem_players = top_self_esteem['PLAYER NAME'].tolist()\n",
    "bottom_self_esteem_players = bottom_self_esteem['PLAYER NAME'].tolist()\n",
    "\n",
    "# Filtering corresponding data in curr_data based on 'Player ID'\n",
    "top_self_esteem_data = contract_data[contract_data['Player ID'].isin(top_self_esteem_players)]\n",
    "bottom_self_esteem_data = contract_data[contract_data['Player ID'].isin(bottom_self_esteem_players)]\n",
    "\n",
    "# Extracting 'Under/Overstock_wrt_Optimal' values for the two groups\n",
    "top_self_esteem_deviation = top_self_esteem_data['Under/Overstock_wrt_Optimal'].dropna()\n",
    "bottom_self_esteem_deviation = bottom_self_esteem_data['Under/Overstock_wrt_Optimal'].dropna()\n",
    "\n",
    "# Test for normality using the Shapiro-Wilk test\n",
    "top_shapiro_test = stats.shapiro(top_self_esteem_deviation)\n",
    "bottom_shapiro_test = stats.shapiro(bottom_self_esteem_deviation)\n",
    "\n",
    "# Print the results\n",
    "print(\"Shapiro-Wilk Test for Top Average Deviation:\")\n",
    "print(f\"Statistic: {top_shapiro_test.statistic}, p-value: {top_shapiro_test.pvalue}\")\n",
    "\n",
    "print(\"\\nShapiro-Wilk Test for Bottom Average Deviation:\")\n",
    "print(f\"Statistic: {bottom_shapiro_test.statistic}, p-value: {bottom_shapiro_test.pvalue}\")\n",
    "print()\n",
    "\n",
    "\n",
    "# Both sets reject normality, using Mann-Whitney U test\n",
    "\n",
    "t_stat_self_esteem, p_value_self_esteem = mannwhitneyu(top_self_esteem_deviation.dropna(), bottom_self_esteem_deviation.dropna(), alternative='less')\n",
    "self_esteem_test_result = f\"T-test results for Self-Esteem groups - t-statistic: {t_stat_self_esteem}, p-value: {p_value_self_esteem}\"\n",
    "\n",
    "\n",
    "print (self_esteem_test_result)\n",
    "\n",
    "\"\"\"p value is less than 0.05, meaning null hypothesis is rejected. Pairs where retailers have more self-esteem compared to manufacturers significantly underordered compared to pairs where manufacturers have more self-esteem compared to retailers.\n",
    "\"\"\"\n",
    "\n"
   ]
  },
  {
   "cell_type": "markdown",
   "metadata": {},
   "source": [
    "# Hypothesis Test 3: Influence of Fairness Index on Wholesale Price Acceptance\n",
    "\n",
    "Reasoning: Pairs with a high sense of fairness difference might react differently to perceived \"unfair\" changes in prices, reflecting this in their buying decisions or willingness to accept wholesale terms.\n",
    "\n",
    "Purpose: The goal is to explore how fairness perceptions shape market behavior, particularly in sensitive price scenarios.\n",
    "\n",
    "Null Hypothesis (H0): There is no significant difference in the reaction to wholesale price changes based on fairness index. </br>\n",
    "Alternative Hypothesis (H1): There is a significant difference in wholesale price acceptance based on fairness."
   ]
  },
  {
   "cell_type": "code",
   "execution_count": 45,
   "metadata": {},
   "outputs": [
    {
     "name": "stdout",
     "output_type": "stream",
     "text": [
      "Shapiro-Wilk Test for Top Average Deviation:\n",
      "Statistic: 0.9010279642500466, p-value: 6.548757990827054e-09\n",
      "\n",
      "Shapiro-Wilk Test for Bottom Average Deviation:\n",
      "Statistic: 0.886553919201605, p-value: 1.0157919757173022e-09\n",
      "\n",
      "T-test results for Fairness Interaction groups - t-statistic: 10129.0, p-value: 0.0003935102935428898\n"
     ]
    },
    {
     "data": {
      "text/plain": [
       "'p value is less than 0.05, meaning null hypothesis is rejected. Manufacturer-retailer pairs with lots of disparity on fairness index significantly had lower wholesale price acceptance compared to pairs with similar fairness levels.\\n'"
      ]
     },
     "execution_count": 45,
     "metadata": {},
     "output_type": "execute_result"
    }
   ],
   "source": [
    "\n",
    "# Step 1: Sorting by 'Fairness_Interaction' and selecting top and bottom 4\n",
    "top_fairness = survey_data.sort_values(by='Fairness_Interaction').head(4) # Groups with lots of disparity on fairness\n",
    "bottom_fairness = survey_data.sort_values(by='Fairness_Interaction').tail(4)\n",
    "\n",
    "# Extracting 'PLAYER NAME' values\n",
    "top_fairness_players = top_fairness['PLAYER NAME'].tolist()\n",
    "bottom_fairness_players = bottom_fairness['PLAYER NAME'].tolist()\n",
    "\n",
    "# Filtering corresponding data in curr_data based on 'Player ID'\n",
    "top_fairness_data = contract_data[contract_data['Player ID'].isin(top_fairness_players)]\n",
    "bottom_fairness_data = contract_data[contract_data['Player ID'].isin(bottom_fairness_players)]\n",
    "\n",
    "# Assuming 'Wholesale p.' is the column indicating wholesale price reaction or acceptance\n",
    "top_fairness_wholesale = top_fairness_data['Wholesale p.'].dropna()\n",
    "bottom_fairness_wholesale = bottom_fairness_data['Wholesale p.'].dropna()\n",
    "\n",
    "# Test for normality using the Shapiro-Wilk test\n",
    "top_shapiro_test = stats.shapiro(top_fairness_wholesale)\n",
    "bottom_shapiro_test = stats.shapiro(bottom_fairness_wholesale)\n",
    "\n",
    "# Print the results\n",
    "print(\"Shapiro-Wilk Test for Top Average Deviation:\")\n",
    "print(f\"Statistic: {top_shapiro_test.statistic}, p-value: {top_shapiro_test.pvalue}\")\n",
    "\n",
    "print(\"\\nShapiro-Wilk Test for Bottom Average Deviation:\")\n",
    "print(f\"Statistic: {bottom_shapiro_test.statistic}, p-value: {bottom_shapiro_test.pvalue}\")\n",
    "print()\n",
    "\n",
    "\n",
    "# Both sets reject normality, using Mann-Whitney U test\n",
    "\n",
    "t_stat_fairness, p_value_fairness = mannwhitneyu(top_fairness_wholesale.dropna(), bottom_fairness_wholesale.dropna(), alternative='less')\n",
    "fairness_test_result = f\"T-test results for Fairness Interaction groups - t-statistic: {t_stat_fairness}, p-value: {p_value_fairness}\"\n",
    "\n",
    "\n",
    "print(fairness_test_result)\n",
    "\n",
    "\"\"\"p value is less than 0.05, meaning null hypothesis is rejected. Manufacturer-retailer pairs with lots of disparity on fairness index significantly had lower wholesale price acceptance compared to pairs with similar fairness levels.\n",
    "\"\"\"\n",
    "\n"
   ]
  },
  {
   "cell_type": "markdown",
   "metadata": {},
   "source": [
    "# Hypothesis Test 4: Regret Sensitivity and Over/Under-Stocking Behavior\n",
    "Reasoning: Regret sensitivity influences risk behavior post-decision. Individuals who experience high regret may be more conservative or exhibit specific tendencies in response to missed stock opportunities or oversupply.\n",
    "\n",
    "Purpose: This hypothesis seeks to connect post-decision emotional reactions with measurable stocking patterns, aiming to quantify behavior tied to regret.\n",
    "\n",
    "Null Hypothesis (H0): There is no significant difference in over/under-stocking behavior based on regret sensitivity. </br>\n",
    "Alternative Hypothesis (H1): There is a significant difference in over/under-stocking based on regret sensitivity."
   ]
  },
  {
   "cell_type": "code",
   "execution_count": null,
   "metadata": {},
   "outputs": [
    {
     "name": "stdout",
     "output_type": "stream",
     "text": [
      "Shapiro-Wilk Test for Top Average Deviation:\n",
      "Statistic: 0.9216392752613928, p-value: 1.2775676561828124e-07\n",
      "\n",
      "Shapiro-Wilk Test for Bottom Average Deviation:\n",
      "Statistic: 0.9358375797466945, p-value: 1.3078885163598652e-06\n",
      "\n",
      "T-test results for Regret Sensitivity groups - t-statistic: 8029.5, p-value: 4.012201934154288e-09\n"
     ]
    },
    {
     "data": {
      "text/plain": [
       "'p value is less than 0.05, meaning null hypothesis is rejected. Pairs with low average regret scale significantly overordered compare\\n'"
      ]
     },
     "execution_count": 48,
     "metadata": {},
     "output_type": "execute_result"
    }
   ],
   "source": [
    "# Step 1: Sorting by 'Avg_RegretScale' and selecting top and bottom 4\n",
    "top_regret = survey_data.sort_values(by='Avg_RegretScale').tail(4)\n",
    "bottom_regret = survey_data.sort_values(by='Avg_RegretScale').head(4)\n",
    "\n",
    "# Extracting 'PLAYER NAME' values\n",
    "top_regret_players = top_regret['PLAYER NAME'].tolist()\n",
    "bottom_regret_players = bottom_regret['PLAYER NAME'].tolist()\n",
    "\n",
    "# Filtering corresponding data in curr_data based on 'Player ID'\n",
    "top_regret_data = contract_data[contract_data['Player ID'].isin(top_regret_players)]\n",
    "bottom_regret_data = contract_data[contract_data['Player ID'].isin(bottom_regret_players)]\n",
    "\n",
    "# Extracting 'Under/Overstock_wrt_Optimal' values for the two groups\n",
    "top_regret_deviation = top_regret_data['Under/Overstock_wrt_Optimal'].dropna()\n",
    "bottom_regret_deviation = bottom_regret_data['Under/Overstock_wrt_Optimal'].dropna()\n",
    "\n",
    "# Test for normality using the Shapiro-Wilk test\n",
    "top_shapiro_test = stats.shapiro(top_regret_deviation)\n",
    "bottom_shapiro_test = stats.shapiro(bottom_regret_deviation)\n",
    "\n",
    "# Print the results\n",
    "print(\"Shapiro-Wilk Test for Top Average Deviation:\")\n",
    "print(f\"Statistic: {top_shapiro_test.statistic}, p-value: {top_shapiro_test.pvalue}\")\n",
    "\n",
    "print(\"\\nShapiro-Wilk Test for Bottom Average Deviation:\")\n",
    "print(f\"Statistic: {bottom_shapiro_test.statistic}, p-value: {bottom_shapiro_test.pvalue}\")\n",
    "print()\n",
    "\n",
    "\n",
    "# Both sets reject normality, using Mann-Whitney U test\n",
    "\n",
    "t_stat_regret, p_value_regret = mannwhitneyu(top_regret_deviation.dropna(), bottom_regret_deviation.dropna(), alternative='less')\n",
    "regret_test_result = f\"T-test results for Regret Sensitivity groups - t-statistic: {t_stat_regret}, p-value: {p_value_regret}\"\n",
    "\n",
    "\n",
    "print(regret_test_result)\n",
    "\n",
    "\"\"\"p value is less than 0.05, meaning null hypothesis is rejected. Pairs with high average regret scale significantly underordered compared to pairs with lower average regret scale.\n",
    "\"\"\"\n",
    "\n"
   ]
  },
  {
   "cell_type": "markdown",
   "metadata": {},
   "source": [
    "# Hypothesis Test 5: Difference of Fairness index between retailer and manufacturer and Retailer Profit Share\n",
    "\n",
    "Reasoning: A high fairness index may lead individuals to pursue more equitable profit distributions. This can manifest as behaviors that promote fairer profit-sharing in commercial contexts.\n",
    "\n",
    "Purpose: This hypothesis tests whether fairness-driven behavior directly translates to profit sharing dynamics between parties.\n",
    "\n",
    "Null Hypothesis (H0): There is no significant difference in retailer profit share based on Difference of Fairness index between retailer and manufacturer. </br>\n",
    "Alternative Hypothesis (H1): There is a significant difference in retailer profit share based on Difference of Fairness index between retailer and manufacturer."
   ]
  },
  {
   "cell_type": "code",
   "execution_count": 54,
   "metadata": {},
   "outputs": [
    {
     "name": "stdout",
     "output_type": "stream",
     "text": [
      "T-test results for Fairness Index groups - t-statistic: 10492.0, p-value: 0.028643071212242098\n"
     ]
    },
    {
     "data": {
      "text/plain": [
       "'p value is less than 0.05, meaning null hypothesis is rejected. Pairs where retailers have more sense of fairness significantly had more realized retailer profit share compared to pairs where manufacturer had more sense of fairness'"
      ]
     },
     "execution_count": 54,
     "metadata": {},
     "output_type": "execute_result"
    }
   ],
   "source": [
    "# Hypothesis Test: Fairness Index and Retailer Profit Share\n",
    "# Null Hypothesis (H0): There is no significant difference in retailer profit share based on difference of fairness index between retailer and manufacturer.\n",
    "# Alternative Hypothesis (H1): There is a significant difference in retailer profit share based on fairness index between retailer and manufacturer.\n",
    "\n",
    "# Step 1: Sorting by 'Diff_FairnessIndex' and selecting top and bottom 4\n",
    "top_fairness_diff = survey_data.sort_values(by='Diff_FairnessIndex').head(4) #Group where retailers have more sense of fairness than manufacturers\n",
    "bottom_fairness_diff = survey_data.sort_values(by='Diff_FairnessIndex').tail(4)\n",
    "\n",
    "# Extracting 'PLAYER NAME' values\n",
    "top_fairness_diff_players = top_fairness_diff['PLAYER NAME'].tolist()\n",
    "bottom_fairness_diff_players = bottom_fairness_diff['PLAYER NAME'].tolist()\n",
    "\n",
    "# Filtering corresponding data in curr_data based on 'Player ID'\n",
    "top_fairness_diff_data = contract_data[contract_data['Player ID'].isin(top_fairness_diff_players)]\n",
    "bottom_fairness_diff_data = contract_data[contract_data['Player ID'].isin(bottom_fairness_diff_players)]\n",
    "\n",
    "# Extracting 'Realized Retailer Profit' values for the two groups as a proxy for retailer profit share\n",
    "top_fairness_diff_profit = top_fairness_diff_data['Realized Retailer Profit'] / (top_fairness_diff_data['Realized Retailer Profit'] + top_fairness_diff_data['Realized_Mfg_Profit'])\n",
    "bottom_fairness_diff_profit = bottom_fairness_diff_data['Realized Retailer Profit'] / (bottom_fairness_diff_data['Realized Retailer Profit'] + bottom_fairness_diff_data['Realized_Mfg_Profit'])\n",
    "\n",
    "# Using Mann-Whitney U test\n",
    "\n",
    "t_stat_fairness_diff, p_value_fairness_diff = mannwhitneyu(top_fairness_diff_profit.dropna(), bottom_fairness_diff_profit.dropna(), alternative='greater')\n",
    "fairness_diff_test_result = f\"T-test results for Fairness Index groups - t-statistic: {t_stat_fairness_diff}, p-value: {p_value_fairness_diff}\"\n",
    "\n",
    "print(fairness_diff_test_result)\n",
    "\n",
    "\"\"\"p value is less than 0.05, meaning null hypothesis is rejected. Pairs where retailers have more sense of fairness significantly had more realized retailer profit share compared to pairs where manufacturer had more sense of fairness\"\"\"\n"
   ]
  },
  {
   "cell_type": "markdown",
   "metadata": {},
   "source": [
    "# Hypothesis Test 6: Risk Aversion and Demand Responsiveness\n",
    "Reasoning: This hypothesis explores whether risk-averse individuals react differently when faced with fluctuating demand, possibly being more conservative or slow to adjust stock levels.\n",
    "\n",
    "Purpose: The goal is to see if risk profiles impact the agility and accuracy of demand-based inventory adjustments.\n",
    "\n",
    "Null Hypothesis (H0): There is no significant difference in demand responsiveness based on risk aversion. </br>\n",
    "Alternative Hypothesis (H1): There is a significant difference in demand responsiveness based on risk aversion."
   ]
  },
  {
   "cell_type": "code",
   "execution_count": 58,
   "metadata": {},
   "outputs": [
    {
     "name": "stdout",
     "output_type": "stream",
     "text": [
      "Shapiro-Wilk Test for Top Average Deviation:\n",
      "Statistic: 0.9115527698042492, p-value: 2.8328786737267023e-08\n",
      "\n",
      "Shapiro-Wilk Test for Bottom Average Deviation:\n",
      "Statistic: 0.9316699942801167, p-value: 6.425623834234659e-07\n",
      "\n",
      "T-test results for Fairness Index groups - t-statistic: 11952.0, p-value: 0.15285624831884892\n"
     ]
    },
    {
     "data": {
      "text/plain": [
       "'p value is more than 0.05, so we can not reject the null hypothesis. There is no significant difference in demand responsiveness based on risk aversion'"
      ]
     },
     "execution_count": 58,
     "metadata": {},
     "output_type": "execute_result"
    }
   ],
   "source": [
    "# Hypothesis Test: Risk Aversion and Demand Responsiveness\n",
    "# Null Hypothesis (H0): There is no significant difference in demand responsiveness based on risk aversion.\n",
    "# Alternative Hypothesis (H1): There is a significant difference in demand responsiveness based on risk aversion.\n",
    "\n",
    "# Step 1: Sorting by 'Diff_FairnessIndex' and selecting top and bottom 4\n",
    "top_fairness_diff = survey_data.sort_values(by='Avg_RiskAverseCoeff').head(4) ##Pairs that like risk more\n",
    "bottom_fairness_diff = survey_data.sort_values(by='Avg_RiskAverseCoeff').tail(4)\n",
    "\n",
    "# Extracting 'PLAYER NAME' values\n",
    "top_fairness_diff_players = top_fairness_diff['PLAYER NAME'].tolist()\n",
    "bottom_fairness_diff_players = bottom_fairness_diff['PLAYER NAME'].tolist()\n",
    "\n",
    "# Filtering corresponding data in curr_data based on 'Player ID'\n",
    "top_fairness_diff_data = contract_data[contract_data['Player ID'].isin(top_fairness_diff_players)]\n",
    "bottom_fairness_diff_data = contract_data[contract_data['Player ID'].isin(bottom_fairness_diff_players)]\n",
    "\n",
    "# Extracting 'Realized Retailer Profit' values for the two groups as a proxy for retailer profit share\n",
    "top_fairness_diff_profit = abs(top_fairness_diff_data['Demand'] - top_fairness_diff_data['Stock'])\n",
    "bottom_fairness_diff_profit = abs(bottom_fairness_diff_data['Demand'] - bottom_fairness_diff_data['Stock'])\n",
    "\n",
    "\n",
    "# Test for normality using the Shapiro-Wilk test\n",
    "top_shapiro_test = stats.shapiro(top_fairness_diff_profit)\n",
    "bottom_shapiro_test = stats.shapiro(bottom_fairness_diff_profit)\n",
    "\n",
    "# Print the results\n",
    "print(\"Shapiro-Wilk Test for Top Average Deviation:\")\n",
    "print(f\"Statistic: {top_shapiro_test.statistic}, p-value: {top_shapiro_test.pvalue}\")\n",
    "\n",
    "print(\"\\nShapiro-Wilk Test for Bottom Average Deviation:\")\n",
    "print(f\"Statistic: {bottom_shapiro_test.statistic}, p-value: {bottom_shapiro_test.pvalue}\")\n",
    "print()\n",
    "\n",
    "\n",
    "# Both sets reject normality, using Mann-Whitney U test\n",
    "\n",
    "t_stat_fairness_diff, p_value_fairness_diff = mannwhitneyu(top_fairness_diff_profit.dropna(), bottom_fairness_diff_profit.dropna(), alternative='less')\n",
    "fairness_diff_test_result = f\"T-test results for Fairness Index groups - t-statistic: {t_stat_fairness_diff}, p-value: {p_value_fairness_diff}\"\n",
    "\n",
    "print(fairness_diff_test_result)\n",
    "\n",
    "\"\"\"p value is more than 0.05, so we can not reject the null hypothesis. There is no significant difference in demand responsiveness based on risk aversion\"\"\"\n",
    "\n"
   ]
  }
 ],
 "metadata": {
  "kernelspec": {
   "display_name": "Python 3",
   "language": "python",
   "name": "python3"
  },
  "language_info": {
   "codemirror_mode": {
    "name": "ipython",
    "version": 3
   },
   "file_extension": ".py",
   "mimetype": "text/x-python",
   "name": "python",
   "nbconvert_exporter": "python",
   "pygments_lexer": "ipython3",
   "version": "3.11.3"
  }
 },
 "nbformat": 4,
 "nbformat_minor": 2
}
